{
  "nbformat": 4,
  "nbformat_minor": 0,
  "metadata": {
    "colab": {
      "name": "DataWrangling.ipynb",
      "provenance": [],
      "collapsed_sections": [],
      "authorship_tag": "ABX9TyOg+V7dbw6N8Vkgcrr1tM/B",
      "include_colab_link": true
    },
    "kernelspec": {
      "name": "python3",
      "display_name": "Python 3"
    }
  },
  "cells": [
    {
      "cell_type": "markdown",
      "metadata": {
        "id": "view-in-github",
        "colab_type": "text"
      },
      "source": [
        "<a href=\"https://colab.research.google.com/github/raviaahlad/DataWranglingRottenTomatoes/blob/master/DataWrangling.ipynb\" target=\"_parent\"><img src=\"https://colab.research.google.com/assets/colab-badge.svg\" alt=\"Open In Colab\"/></a>"
      ]
    },
    {
      "cell_type": "code",
      "metadata": {
        "id": "uN1zRsFV7XND",
        "colab_type": "code",
        "colab": {
          "base_uri": "https://localhost:8080/",
          "height": 34
        },
        "outputId": "6d2f2818-a5ef-4bc5-e1fa-5394c8a53fa2"
      },
      "source": [
        "print(\"OM Gan Ganapataye Namah\")"
      ],
      "execution_count": 1,
      "outputs": [
        {
          "output_type": "stream",
          "text": [
            "OM Gan Ganapataye Namah\n"
          ],
          "name": "stdout"
        }
      ]
    },
    {
      "cell_type": "markdown",
      "metadata": {
        "id": "vj1S_uuTBpkm",
        "colab_type": "text"
      },
      "source": [
        "# Gather\n",
        "First Step Of Data Wrangling\n",
        "* Collecting data from web pages:web scraping\n",
        "* Data from databases \n",
        "* From Files \n",
        "* API(Application Programming Interface)\n",
        "\n",
        "### Best Practice: Downloading Files Programmatically\n",
        "* **Scalability**: Imagine you had a thousand files to download on a thousand different web pages, instead of just one. It'd take an eternity to point and click a thousand times. You can do the same with a few lines of code.\n",
        "\n",
        "* **Reproducibility**: Someone, whether it's you or another person, is likely going to want to run your analysis later, so make downloading the dataset or datasets as easy on that person as possible. Reproducibility is also one of the main principles of the scientific method. You want to be able to prove to people that your analysis, visualization, etc. is legitimate. People need to know that given your data, your computational environment, your code, etc., that they can reproduce your results! Plus, the dataset or the web page it lives on may change, so if you include the date you downloaded the dataset, you give these future onlookers a chance to access archived copies of the dataset or at least understand why their results are different.\n"
      ]
    },
    {
      "cell_type": "code",
      "metadata": {
        "id": "DM9wrvGU7mhg",
        "colab_type": "code",
        "colab": {
          "base_uri": "https://localhost:8080/",
          "height": 224
        },
        "outputId": "aeafadb7-7d85-4f29-95f2-4b2a1e140787"
      },
      "source": [
        "!wget --header=\"Host: storage.googleapis.com\" --header=\"User-Agent: Mozilla/5.0 (Windows NT 10.0; Win64; x64) AppleWebKit/537.36 (KHTML, like Gecko) Chrome/84.0.4147.125 Safari/537.36 Edg/84.0.522.59\" --header=\"Accept: text/html,application/xhtml+xml,application/xml;q=0.9,image/webp,image/apng,*/*;q=0.8,application/signed-exchange;v=b3;q=0.9\" --header=\"Accept-Language: en-US,en;q=0.9\" --header=\"Referer: https://www.kaggle.com/\" \"https://storage.googleapis.com/kaggle-data-sets/1844%2F3192%2Fcompressed%2Fonline-job-postings.csv.zip?GoogleAccessId=gcp-kaggle-com@kaggle-161607.iam.gserviceaccount.com&Expires=1598088039&Signature=pVhoiP348fTebxX%2FF1q5u89NauNyE%2BnYWDuUWn7FMd4il4xZZxZVyRLLOHqgK1QsPWlu3vHlaIJ9tgWksXuSeic6vKlKT1IrknniPintccvMNlsGe7zfBP%2FDwbfGxzMr7EDXKEIfp4sXXYe%2Ff%2B8zXoBho9vlox%2B%2BgRjFTGxjspqAQN6Uzup44JVVQhHoHEKlMc0sXm%2FylI8kJCnh7aLHUeQ9Ui59nM4HhcuKM2%2BIhga1E74QN%2BKrjWW%2FTGl8%2FixOm47GsQUJWpvq30vAV2OFcq6vFDDSNAAPYnnU1PWczFj2VXj5hvXsUjuBN05vtvcofase%2FZq7dDDAPav4wuUQgg%3D%3D\" -c -O '1844_3192_compressed_online-job-postings.csv.zip'"
      ],
      "execution_count": 2,
      "outputs": [
        {
          "output_type": "stream",
          "text": [
            "--2020-08-19 09:21:03--  https://storage.googleapis.com/kaggle-data-sets/1844%2F3192%2Fcompressed%2Fonline-job-postings.csv.zip?GoogleAccessId=gcp-kaggle-com@kaggle-161607.iam.gserviceaccount.com&Expires=1598088039&Signature=pVhoiP348fTebxX%2FF1q5u89NauNyE%2BnYWDuUWn7FMd4il4xZZxZVyRLLOHqgK1QsPWlu3vHlaIJ9tgWksXuSeic6vKlKT1IrknniPintccvMNlsGe7zfBP%2FDwbfGxzMr7EDXKEIfp4sXXYe%2Ff%2B8zXoBho9vlox%2B%2BgRjFTGxjspqAQN6Uzup44JVVQhHoHEKlMc0sXm%2FylI8kJCnh7aLHUeQ9Ui59nM4HhcuKM2%2BIhga1E74QN%2BKrjWW%2FTGl8%2FixOm47GsQUJWpvq30vAV2OFcq6vFDDSNAAPYnnU1PWczFj2VXj5hvXsUjuBN05vtvcofase%2FZq7dDDAPav4wuUQgg%3D%3D\n",
            "Resolving storage.googleapis.com (storage.googleapis.com)... 74.125.141.128, 173.194.212.128, 173.194.217.128, ...\n",
            "Connecting to storage.googleapis.com (storage.googleapis.com)|74.125.141.128|:443... connected.\n",
            "HTTP request sent, awaiting response... 200 OK\n",
            "Length: 13923251 (13M) [application/zip]\n",
            "Saving to: ‘1844_3192_compressed_online-job-postings.csv.zip’\n",
            "\n",
            "\r          1844_3192   0%[                    ]       0  --.-KB/s               \r         1844_3192_  89%[================>   ]  11.93M  59.6MB/s               \r1844_3192_compresse 100%[===================>]  13.28M  62.5MB/s    in 0.2s    \n",
            "\n",
            "2020-08-19 09:21:03 (62.5 MB/s) - ‘1844_3192_compressed_online-job-postings.csv.zip’ saved [13923251/13923251]\n",
            "\n"
          ],
          "name": "stdout"
        }
      ]
    },
    {
      "cell_type": "markdown",
      "metadata": {
        "id": "bDHamNh1JClb",
        "colab_type": "text"
      },
      "source": [
        "* UNZIP FILE"
      ]
    },
    {
      "cell_type": "code",
      "metadata": {
        "id": "hxwsgtbhLxoW",
        "colab_type": "code",
        "colab": {}
      },
      "source": [
        "import zipfile\n",
        "import pandas as pd"
      ],
      "execution_count": 4,
      "outputs": []
    },
    {
      "cell_type": "code",
      "metadata": {
        "id": "S0DKHLijBX-K",
        "colab_type": "code",
        "colab": {}
      },
      "source": [
        "with zipfile.ZipFile('/content/1844_3192_compressed_online-job-postings.csv.zip','r') as myzip:\n",
        "    myzip.extractall('/content/')"
      ],
      "execution_count": 3,
      "outputs": []
    },
    {
      "cell_type": "markdown",
      "metadata": {
        "id": "c0LXJn3zK04M",
        "colab_type": "text"
      },
      "source": [
        "* CSV File Format: Comma Seperated Values\n"
      ]
    },
    {
      "cell_type": "code",
      "metadata": {
        "id": "Yw4M4PrWJ-Ky",
        "colab_type": "code",
        "colab": {}
      },
      "source": [
        "#Read CSV (Comma Seperated Values) Using Pandas\n",
        "df = pd.read_csv('/content/online-job-postings.csv')"
      ],
      "execution_count": 6,
      "outputs": []
    },
    {
      "cell_type": "code",
      "metadata": {
        "id": "XZiJkHpeMfrG",
        "colab_type": "code",
        "colab": {
          "base_uri": "https://localhost:8080/",
          "height": 598
        },
        "outputId": "df87b2ed-3291-4aa0-b0fa-8687035ae344"
      },
      "source": [
        "df.head()"
      ],
      "execution_count": 8,
      "outputs": [
        {
          "output_type": "execute_result",
          "data": {
            "text/html": [
              "<div>\n",
              "<style scoped>\n",
              "    .dataframe tbody tr th:only-of-type {\n",
              "        vertical-align: middle;\n",
              "    }\n",
              "\n",
              "    .dataframe tbody tr th {\n",
              "        vertical-align: top;\n",
              "    }\n",
              "\n",
              "    .dataframe thead th {\n",
              "        text-align: right;\n",
              "    }\n",
              "</style>\n",
              "<table border=\"1\" class=\"dataframe\">\n",
              "  <thead>\n",
              "    <tr style=\"text-align: right;\">\n",
              "      <th></th>\n",
              "      <th>jobpost</th>\n",
              "      <th>date</th>\n",
              "      <th>Title</th>\n",
              "      <th>Company</th>\n",
              "      <th>AnnouncementCode</th>\n",
              "      <th>Term</th>\n",
              "      <th>Eligibility</th>\n",
              "      <th>Audience</th>\n",
              "      <th>StartDate</th>\n",
              "      <th>Duration</th>\n",
              "      <th>Location</th>\n",
              "      <th>JobDescription</th>\n",
              "      <th>JobRequirment</th>\n",
              "      <th>RequiredQual</th>\n",
              "      <th>Salary</th>\n",
              "      <th>ApplicationP</th>\n",
              "      <th>OpeningDate</th>\n",
              "      <th>Deadline</th>\n",
              "      <th>Notes</th>\n",
              "      <th>AboutC</th>\n",
              "      <th>Attach</th>\n",
              "      <th>Year</th>\n",
              "      <th>Month</th>\n",
              "      <th>IT</th>\n",
              "    </tr>\n",
              "  </thead>\n",
              "  <tbody>\n",
              "    <tr>\n",
              "      <th>0</th>\n",
              "      <td>AMERIA Investment Consulting Company\\r\\nJOB TI...</td>\n",
              "      <td>Jan 5, 2004</td>\n",
              "      <td>Chief Financial Officer</td>\n",
              "      <td>AMERIA Investment Consulting Company</td>\n",
              "      <td>NaN</td>\n",
              "      <td>NaN</td>\n",
              "      <td>NaN</td>\n",
              "      <td>NaN</td>\n",
              "      <td>NaN</td>\n",
              "      <td>NaN</td>\n",
              "      <td>Yerevan, Armenia</td>\n",
              "      <td>AMERIA Investment Consulting Company is seekin...</td>\n",
              "      <td>- Supervises financial management and administ...</td>\n",
              "      <td>To perform this job successfully, an\\r\\nindivi...</td>\n",
              "      <td>NaN</td>\n",
              "      <td>To apply for this position, please submit a\\r\\...</td>\n",
              "      <td>NaN</td>\n",
              "      <td>26 January 2004</td>\n",
              "      <td>NaN</td>\n",
              "      <td>NaN</td>\n",
              "      <td>NaN</td>\n",
              "      <td>2004</td>\n",
              "      <td>1</td>\n",
              "      <td>False</td>\n",
              "    </tr>\n",
              "    <tr>\n",
              "      <th>1</th>\n",
              "      <td>International Research &amp; Exchanges Board (IREX...</td>\n",
              "      <td>Jan 7, 2004</td>\n",
              "      <td>Full-time Community Connections Intern (paid i...</td>\n",
              "      <td>International Research &amp; Exchanges Board (IREX)</td>\n",
              "      <td>NaN</td>\n",
              "      <td>NaN</td>\n",
              "      <td>NaN</td>\n",
              "      <td>NaN</td>\n",
              "      <td>NaN</td>\n",
              "      <td>3 months</td>\n",
              "      <td>IREX Armenia Main Office; Yerevan, Armenia \\r\\...</td>\n",
              "      <td>NaN</td>\n",
              "      <td>NaN</td>\n",
              "      <td>- Bachelor's Degree; Master's is preferred;\\r\\...</td>\n",
              "      <td>NaN</td>\n",
              "      <td>Please submit a cover letter and resume to:\\r\\...</td>\n",
              "      <td>NaN</td>\n",
              "      <td>12 January 2004</td>\n",
              "      <td>NaN</td>\n",
              "      <td>The International Research &amp; Exchanges Board (...</td>\n",
              "      <td>NaN</td>\n",
              "      <td>2004</td>\n",
              "      <td>1</td>\n",
              "      <td>False</td>\n",
              "    </tr>\n",
              "    <tr>\n",
              "      <th>2</th>\n",
              "      <td>Caucasus Environmental NGO Network (CENN)\\r\\nJ...</td>\n",
              "      <td>Jan 7, 2004</td>\n",
              "      <td>Country Coordinator</td>\n",
              "      <td>Caucasus Environmental NGO Network (CENN)</td>\n",
              "      <td>NaN</td>\n",
              "      <td>NaN</td>\n",
              "      <td>NaN</td>\n",
              "      <td>NaN</td>\n",
              "      <td>NaN</td>\n",
              "      <td>Renewable annual contract\\r\\nPOSITION</td>\n",
              "      <td>Yerevan, Armenia</td>\n",
              "      <td>Public outreach and strengthening of a growing...</td>\n",
              "      <td>- Working with the Country Director to provide...</td>\n",
              "      <td>- Degree in environmentally related field, or ...</td>\n",
              "      <td>NaN</td>\n",
              "      <td>Please send resume or CV toursula.kazarian@......</td>\n",
              "      <td>NaN</td>\n",
              "      <td>20 January 2004\\r\\nSTART DATE:  February 2004</td>\n",
              "      <td>NaN</td>\n",
              "      <td>The Caucasus Environmental NGO Network is a\\r\\...</td>\n",
              "      <td>NaN</td>\n",
              "      <td>2004</td>\n",
              "      <td>1</td>\n",
              "      <td>False</td>\n",
              "    </tr>\n",
              "    <tr>\n",
              "      <th>3</th>\n",
              "      <td>Manoff Group\\r\\nJOB TITLE:  BCC Specialist\\r\\n...</td>\n",
              "      <td>Jan 7, 2004</td>\n",
              "      <td>BCC Specialist</td>\n",
              "      <td>Manoff Group</td>\n",
              "      <td>NaN</td>\n",
              "      <td>NaN</td>\n",
              "      <td>NaN</td>\n",
              "      <td>NaN</td>\n",
              "      <td>NaN</td>\n",
              "      <td>NaN</td>\n",
              "      <td>Manila, Philippines</td>\n",
              "      <td>The LEAD (Local Enhancement and Development fo...</td>\n",
              "      <td>- Identify gaps in knowledge and overseeing in...</td>\n",
              "      <td>- Advanced degree in public health, social sci...</td>\n",
              "      <td>NaN</td>\n",
              "      <td>Please send cover letter and resume to Amy\\r\\n...</td>\n",
              "      <td>NaN</td>\n",
              "      <td>23 January 2004\\r\\nSTART DATE:  Immediate</td>\n",
              "      <td>NaN</td>\n",
              "      <td>NaN</td>\n",
              "      <td>NaN</td>\n",
              "      <td>2004</td>\n",
              "      <td>1</td>\n",
              "      <td>False</td>\n",
              "    </tr>\n",
              "    <tr>\n",
              "      <th>4</th>\n",
              "      <td>Yerevan Brandy Company\\r\\nJOB TITLE:  Software...</td>\n",
              "      <td>Jan 10, 2004</td>\n",
              "      <td>Software Developer</td>\n",
              "      <td>Yerevan Brandy Company</td>\n",
              "      <td>NaN</td>\n",
              "      <td>NaN</td>\n",
              "      <td>NaN</td>\n",
              "      <td>NaN</td>\n",
              "      <td>NaN</td>\n",
              "      <td>NaN</td>\n",
              "      <td>Yerevan, Armenia</td>\n",
              "      <td>NaN</td>\n",
              "      <td>- Rendering technical assistance to Database M...</td>\n",
              "      <td>- University degree; economical background is ...</td>\n",
              "      <td>NaN</td>\n",
              "      <td>Successful candidates should submit\\r\\n- CV; \\...</td>\n",
              "      <td>NaN</td>\n",
              "      <td>20 January 2004, 18:00</td>\n",
              "      <td>NaN</td>\n",
              "      <td>NaN</td>\n",
              "      <td>NaN</td>\n",
              "      <td>2004</td>\n",
              "      <td>1</td>\n",
              "      <td>True</td>\n",
              "    </tr>\n",
              "  </tbody>\n",
              "</table>\n",
              "</div>"
            ],
            "text/plain": [
              "                                             jobpost  ...     IT\n",
              "0  AMERIA Investment Consulting Company\\r\\nJOB TI...  ...  False\n",
              "1  International Research & Exchanges Board (IREX...  ...  False\n",
              "2  Caucasus Environmental NGO Network (CENN)\\r\\nJ...  ...  False\n",
              "3  Manoff Group\\r\\nJOB TITLE:  BCC Specialist\\r\\n...  ...  False\n",
              "4  Yerevan Brandy Company\\r\\nJOB TITLE:  Software...  ...   True\n",
              "\n",
              "[5 rows x 24 columns]"
            ]
          },
          "metadata": {
            "tags": []
          },
          "execution_count": 8
        }
      ]
    },
    {
      "cell_type": "markdown",
      "metadata": {
        "id": "OrwFP7MCkg8H",
        "colab_type": "text"
      },
      "source": [
        "# Assess Intro\n",
        "\n",
        "* Low quality data is commonly referred to as dirty data. Dirty data has issues with its content.\n",
        "* **Tidiness**\n",
        "    * It is often said that 80% of data analysis is spent on the cleaning and preparing data. And it’s not just a first step, but it must be repeated many times over the course of analysis as new problems come to light or new data is collected. \n",
        "\n",
        "* A dataset is messy or tidy depending on how rows, columns, and tables are matched up with observations, variables, and types. In tidy data:\n",
        "\n",
        "    * Each variable forms a column.\n",
        "    * Each observation forms a row.\n",
        "    * Each type of observational unit forms a table.\n",
        "\n",
        "* **Vissual Assessment**:\n",
        "    * Using spreadsheet applications like google,microsoft Excel etc\n",
        "    * But This will be for only small datasets\n",
        "    * application will crash if we try to open large datasets\n",
        "\n",
        "* **Programetic Assessment**:\n",
        "    * By using Pandas Library in Python\n",
        "    * Pandas will face problem if we open very large (~Dataset Memory Size > Ram Size) Then We Need Use Dask\n",
        "\n",
        "\n"
      ]
    },
    {
      "cell_type": "code",
      "metadata": {
        "id": "Lj46jTjnMloE",
        "colab_type": "code",
        "colab": {
          "base_uri": "https://localhost:8080/",
          "height": 598
        },
        "outputId": "db6a5edc-5def-41de-f613-ad1b8c50758f"
      },
      "source": [
        "df.head()"
      ],
      "execution_count": 10,
      "outputs": [
        {
          "output_type": "execute_result",
          "data": {
            "text/html": [
              "<div>\n",
              "<style scoped>\n",
              "    .dataframe tbody tr th:only-of-type {\n",
              "        vertical-align: middle;\n",
              "    }\n",
              "\n",
              "    .dataframe tbody tr th {\n",
              "        vertical-align: top;\n",
              "    }\n",
              "\n",
              "    .dataframe thead th {\n",
              "        text-align: right;\n",
              "    }\n",
              "</style>\n",
              "<table border=\"1\" class=\"dataframe\">\n",
              "  <thead>\n",
              "    <tr style=\"text-align: right;\">\n",
              "      <th></th>\n",
              "      <th>jobpost</th>\n",
              "      <th>date</th>\n",
              "      <th>Title</th>\n",
              "      <th>Company</th>\n",
              "      <th>AnnouncementCode</th>\n",
              "      <th>Term</th>\n",
              "      <th>Eligibility</th>\n",
              "      <th>Audience</th>\n",
              "      <th>StartDate</th>\n",
              "      <th>Duration</th>\n",
              "      <th>Location</th>\n",
              "      <th>JobDescription</th>\n",
              "      <th>JobRequirment</th>\n",
              "      <th>RequiredQual</th>\n",
              "      <th>Salary</th>\n",
              "      <th>ApplicationP</th>\n",
              "      <th>OpeningDate</th>\n",
              "      <th>Deadline</th>\n",
              "      <th>Notes</th>\n",
              "      <th>AboutC</th>\n",
              "      <th>Attach</th>\n",
              "      <th>Year</th>\n",
              "      <th>Month</th>\n",
              "      <th>IT</th>\n",
              "    </tr>\n",
              "  </thead>\n",
              "  <tbody>\n",
              "    <tr>\n",
              "      <th>0</th>\n",
              "      <td>AMERIA Investment Consulting Company\\r\\nJOB TI...</td>\n",
              "      <td>Jan 5, 2004</td>\n",
              "      <td>Chief Financial Officer</td>\n",
              "      <td>AMERIA Investment Consulting Company</td>\n",
              "      <td>NaN</td>\n",
              "      <td>NaN</td>\n",
              "      <td>NaN</td>\n",
              "      <td>NaN</td>\n",
              "      <td>NaN</td>\n",
              "      <td>NaN</td>\n",
              "      <td>Yerevan, Armenia</td>\n",
              "      <td>AMERIA Investment Consulting Company is seekin...</td>\n",
              "      <td>- Supervises financial management and administ...</td>\n",
              "      <td>To perform this job successfully, an\\r\\nindivi...</td>\n",
              "      <td>NaN</td>\n",
              "      <td>To apply for this position, please submit a\\r\\...</td>\n",
              "      <td>NaN</td>\n",
              "      <td>26 January 2004</td>\n",
              "      <td>NaN</td>\n",
              "      <td>NaN</td>\n",
              "      <td>NaN</td>\n",
              "      <td>2004</td>\n",
              "      <td>1</td>\n",
              "      <td>False</td>\n",
              "    </tr>\n",
              "    <tr>\n",
              "      <th>1</th>\n",
              "      <td>International Research &amp; Exchanges Board (IREX...</td>\n",
              "      <td>Jan 7, 2004</td>\n",
              "      <td>Full-time Community Connections Intern (paid i...</td>\n",
              "      <td>International Research &amp; Exchanges Board (IREX)</td>\n",
              "      <td>NaN</td>\n",
              "      <td>NaN</td>\n",
              "      <td>NaN</td>\n",
              "      <td>NaN</td>\n",
              "      <td>NaN</td>\n",
              "      <td>3 months</td>\n",
              "      <td>IREX Armenia Main Office; Yerevan, Armenia \\r\\...</td>\n",
              "      <td>NaN</td>\n",
              "      <td>NaN</td>\n",
              "      <td>- Bachelor's Degree; Master's is preferred;\\r\\...</td>\n",
              "      <td>NaN</td>\n",
              "      <td>Please submit a cover letter and resume to:\\r\\...</td>\n",
              "      <td>NaN</td>\n",
              "      <td>12 January 2004</td>\n",
              "      <td>NaN</td>\n",
              "      <td>The International Research &amp; Exchanges Board (...</td>\n",
              "      <td>NaN</td>\n",
              "      <td>2004</td>\n",
              "      <td>1</td>\n",
              "      <td>False</td>\n",
              "    </tr>\n",
              "    <tr>\n",
              "      <th>2</th>\n",
              "      <td>Caucasus Environmental NGO Network (CENN)\\r\\nJ...</td>\n",
              "      <td>Jan 7, 2004</td>\n",
              "      <td>Country Coordinator</td>\n",
              "      <td>Caucasus Environmental NGO Network (CENN)</td>\n",
              "      <td>NaN</td>\n",
              "      <td>NaN</td>\n",
              "      <td>NaN</td>\n",
              "      <td>NaN</td>\n",
              "      <td>NaN</td>\n",
              "      <td>Renewable annual contract\\r\\nPOSITION</td>\n",
              "      <td>Yerevan, Armenia</td>\n",
              "      <td>Public outreach and strengthening of a growing...</td>\n",
              "      <td>- Working with the Country Director to provide...</td>\n",
              "      <td>- Degree in environmentally related field, or ...</td>\n",
              "      <td>NaN</td>\n",
              "      <td>Please send resume or CV toursula.kazarian@......</td>\n",
              "      <td>NaN</td>\n",
              "      <td>20 January 2004\\r\\nSTART DATE:  February 2004</td>\n",
              "      <td>NaN</td>\n",
              "      <td>The Caucasus Environmental NGO Network is a\\r\\...</td>\n",
              "      <td>NaN</td>\n",
              "      <td>2004</td>\n",
              "      <td>1</td>\n",
              "      <td>False</td>\n",
              "    </tr>\n",
              "    <tr>\n",
              "      <th>3</th>\n",
              "      <td>Manoff Group\\r\\nJOB TITLE:  BCC Specialist\\r\\n...</td>\n",
              "      <td>Jan 7, 2004</td>\n",
              "      <td>BCC Specialist</td>\n",
              "      <td>Manoff Group</td>\n",
              "      <td>NaN</td>\n",
              "      <td>NaN</td>\n",
              "      <td>NaN</td>\n",
              "      <td>NaN</td>\n",
              "      <td>NaN</td>\n",
              "      <td>NaN</td>\n",
              "      <td>Manila, Philippines</td>\n",
              "      <td>The LEAD (Local Enhancement and Development fo...</td>\n",
              "      <td>- Identify gaps in knowledge and overseeing in...</td>\n",
              "      <td>- Advanced degree in public health, social sci...</td>\n",
              "      <td>NaN</td>\n",
              "      <td>Please send cover letter and resume to Amy\\r\\n...</td>\n",
              "      <td>NaN</td>\n",
              "      <td>23 January 2004\\r\\nSTART DATE:  Immediate</td>\n",
              "      <td>NaN</td>\n",
              "      <td>NaN</td>\n",
              "      <td>NaN</td>\n",
              "      <td>2004</td>\n",
              "      <td>1</td>\n",
              "      <td>False</td>\n",
              "    </tr>\n",
              "    <tr>\n",
              "      <th>4</th>\n",
              "      <td>Yerevan Brandy Company\\r\\nJOB TITLE:  Software...</td>\n",
              "      <td>Jan 10, 2004</td>\n",
              "      <td>Software Developer</td>\n",
              "      <td>Yerevan Brandy Company</td>\n",
              "      <td>NaN</td>\n",
              "      <td>NaN</td>\n",
              "      <td>NaN</td>\n",
              "      <td>NaN</td>\n",
              "      <td>NaN</td>\n",
              "      <td>NaN</td>\n",
              "      <td>Yerevan, Armenia</td>\n",
              "      <td>NaN</td>\n",
              "      <td>- Rendering technical assistance to Database M...</td>\n",
              "      <td>- University degree; economical background is ...</td>\n",
              "      <td>NaN</td>\n",
              "      <td>Successful candidates should submit\\r\\n- CV; \\...</td>\n",
              "      <td>NaN</td>\n",
              "      <td>20 January 2004, 18:00</td>\n",
              "      <td>NaN</td>\n",
              "      <td>NaN</td>\n",
              "      <td>NaN</td>\n",
              "      <td>2004</td>\n",
              "      <td>1</td>\n",
              "      <td>True</td>\n",
              "    </tr>\n",
              "  </tbody>\n",
              "</table>\n",
              "</div>"
            ],
            "text/plain": [
              "                                             jobpost  ...     IT\n",
              "0  AMERIA Investment Consulting Company\\r\\nJOB TI...  ...  False\n",
              "1  International Research & Exchanges Board (IREX...  ...  False\n",
              "2  Caucasus Environmental NGO Network (CENN)\\r\\nJ...  ...  False\n",
              "3  Manoff Group\\r\\nJOB TITLE:  BCC Specialist\\r\\n...  ...  False\n",
              "4  Yerevan Brandy Company\\r\\nJOB TITLE:  Software...  ...   True\n",
              "\n",
              "[5 rows x 24 columns]"
            ]
          },
          "metadata": {
            "tags": []
          },
          "execution_count": 10
        }
      ]
    },
    {
      "cell_type": "markdown",
      "metadata": {
        "id": "Lq59kErdqRU-",
        "colab_type": "text"
      },
      "source": [
        "**Note from above table**\n",
        "* Missing Values[NaN]\n",
        "* Start Date Inconsistencies\n"
      ]
    },
    {
      "cell_type": "code",
      "metadata": {
        "id": "2_Mqisi2pI0d",
        "colab_type": "code",
        "colab": {
          "base_uri": "https://localhost:8080/",
          "height": 544
        },
        "outputId": "68f33a94-35f4-469b-b3bc-927916ef46c5"
      },
      "source": [
        "df.info()"
      ],
      "execution_count": 11,
      "outputs": [
        {
          "output_type": "stream",
          "text": [
            "<class 'pandas.core.frame.DataFrame'>\n",
            "RangeIndex: 19001 entries, 0 to 19000\n",
            "Data columns (total 24 columns):\n",
            " #   Column            Non-Null Count  Dtype \n",
            "---  ------            --------------  ----- \n",
            " 0   jobpost           19001 non-null  object\n",
            " 1   date              19001 non-null  object\n",
            " 2   Title             18973 non-null  object\n",
            " 3   Company           18994 non-null  object\n",
            " 4   AnnouncementCode  1208 non-null   object\n",
            " 5   Term              7676 non-null   object\n",
            " 6   Eligibility       4930 non-null   object\n",
            " 7   Audience          640 non-null    object\n",
            " 8   StartDate         9675 non-null   object\n",
            " 9   Duration          10798 non-null  object\n",
            " 10  Location          18969 non-null  object\n",
            " 11  JobDescription    15109 non-null  object\n",
            " 12  JobRequirment     16479 non-null  object\n",
            " 13  RequiredQual      18517 non-null  object\n",
            " 14  Salary            9622 non-null   object\n",
            " 15  ApplicationP      18941 non-null  object\n",
            " 16  OpeningDate       18295 non-null  object\n",
            " 17  Deadline          18936 non-null  object\n",
            " 18  Notes             2211 non-null   object\n",
            " 19  AboutC            12470 non-null  object\n",
            " 20  Attach            1559 non-null   object\n",
            " 21  Year              19001 non-null  int64 \n",
            " 22  Month             19001 non-null  int64 \n",
            " 23  IT                19001 non-null  bool  \n",
            "dtypes: bool(1), int64(2), object(21)\n",
            "memory usage: 3.4+ MB\n"
          ],
          "name": "stdout"
        }
      ]
    },
    {
      "cell_type": "markdown",
      "metadata": {
        "id": "ni0aYS8Hrp-f",
        "colab_type": "text"
      },
      "source": [
        "**Observation**\n",
        "- Fix Non Descriptive Columns (ApplicationP,AboutC,RequiredQual, .... and also Job Requirment)"
      ]
    },
    {
      "cell_type": "code",
      "metadata": {
        "id": "YkGnv6RKrSO-",
        "colab_type": "code",
        "colab": {
          "base_uri": "https://localhost:8080/",
          "height": 598
        },
        "outputId": "5e86b1fa-9c7b-4241-c7fd-bb8a9edb8fdc"
      },
      "source": [
        "df.head()"
      ],
      "execution_count": 12,
      "outputs": [
        {
          "output_type": "execute_result",
          "data": {
            "text/html": [
              "<div>\n",
              "<style scoped>\n",
              "    .dataframe tbody tr th:only-of-type {\n",
              "        vertical-align: middle;\n",
              "    }\n",
              "\n",
              "    .dataframe tbody tr th {\n",
              "        vertical-align: top;\n",
              "    }\n",
              "\n",
              "    .dataframe thead th {\n",
              "        text-align: right;\n",
              "    }\n",
              "</style>\n",
              "<table border=\"1\" class=\"dataframe\">\n",
              "  <thead>\n",
              "    <tr style=\"text-align: right;\">\n",
              "      <th></th>\n",
              "      <th>jobpost</th>\n",
              "      <th>date</th>\n",
              "      <th>Title</th>\n",
              "      <th>Company</th>\n",
              "      <th>AnnouncementCode</th>\n",
              "      <th>Term</th>\n",
              "      <th>Eligibility</th>\n",
              "      <th>Audience</th>\n",
              "      <th>StartDate</th>\n",
              "      <th>Duration</th>\n",
              "      <th>Location</th>\n",
              "      <th>JobDescription</th>\n",
              "      <th>JobRequirment</th>\n",
              "      <th>RequiredQual</th>\n",
              "      <th>Salary</th>\n",
              "      <th>ApplicationP</th>\n",
              "      <th>OpeningDate</th>\n",
              "      <th>Deadline</th>\n",
              "      <th>Notes</th>\n",
              "      <th>AboutC</th>\n",
              "      <th>Attach</th>\n",
              "      <th>Year</th>\n",
              "      <th>Month</th>\n",
              "      <th>IT</th>\n",
              "    </tr>\n",
              "  </thead>\n",
              "  <tbody>\n",
              "    <tr>\n",
              "      <th>0</th>\n",
              "      <td>AMERIA Investment Consulting Company\\r\\nJOB TI...</td>\n",
              "      <td>Jan 5, 2004</td>\n",
              "      <td>Chief Financial Officer</td>\n",
              "      <td>AMERIA Investment Consulting Company</td>\n",
              "      <td>NaN</td>\n",
              "      <td>NaN</td>\n",
              "      <td>NaN</td>\n",
              "      <td>NaN</td>\n",
              "      <td>NaN</td>\n",
              "      <td>NaN</td>\n",
              "      <td>Yerevan, Armenia</td>\n",
              "      <td>AMERIA Investment Consulting Company is seekin...</td>\n",
              "      <td>- Supervises financial management and administ...</td>\n",
              "      <td>To perform this job successfully, an\\r\\nindivi...</td>\n",
              "      <td>NaN</td>\n",
              "      <td>To apply for this position, please submit a\\r\\...</td>\n",
              "      <td>NaN</td>\n",
              "      <td>26 January 2004</td>\n",
              "      <td>NaN</td>\n",
              "      <td>NaN</td>\n",
              "      <td>NaN</td>\n",
              "      <td>2004</td>\n",
              "      <td>1</td>\n",
              "      <td>False</td>\n",
              "    </tr>\n",
              "    <tr>\n",
              "      <th>1</th>\n",
              "      <td>International Research &amp; Exchanges Board (IREX...</td>\n",
              "      <td>Jan 7, 2004</td>\n",
              "      <td>Full-time Community Connections Intern (paid i...</td>\n",
              "      <td>International Research &amp; Exchanges Board (IREX)</td>\n",
              "      <td>NaN</td>\n",
              "      <td>NaN</td>\n",
              "      <td>NaN</td>\n",
              "      <td>NaN</td>\n",
              "      <td>NaN</td>\n",
              "      <td>3 months</td>\n",
              "      <td>IREX Armenia Main Office; Yerevan, Armenia \\r\\...</td>\n",
              "      <td>NaN</td>\n",
              "      <td>NaN</td>\n",
              "      <td>- Bachelor's Degree; Master's is preferred;\\r\\...</td>\n",
              "      <td>NaN</td>\n",
              "      <td>Please submit a cover letter and resume to:\\r\\...</td>\n",
              "      <td>NaN</td>\n",
              "      <td>12 January 2004</td>\n",
              "      <td>NaN</td>\n",
              "      <td>The International Research &amp; Exchanges Board (...</td>\n",
              "      <td>NaN</td>\n",
              "      <td>2004</td>\n",
              "      <td>1</td>\n",
              "      <td>False</td>\n",
              "    </tr>\n",
              "    <tr>\n",
              "      <th>2</th>\n",
              "      <td>Caucasus Environmental NGO Network (CENN)\\r\\nJ...</td>\n",
              "      <td>Jan 7, 2004</td>\n",
              "      <td>Country Coordinator</td>\n",
              "      <td>Caucasus Environmental NGO Network (CENN)</td>\n",
              "      <td>NaN</td>\n",
              "      <td>NaN</td>\n",
              "      <td>NaN</td>\n",
              "      <td>NaN</td>\n",
              "      <td>NaN</td>\n",
              "      <td>Renewable annual contract\\r\\nPOSITION</td>\n",
              "      <td>Yerevan, Armenia</td>\n",
              "      <td>Public outreach and strengthening of a growing...</td>\n",
              "      <td>- Working with the Country Director to provide...</td>\n",
              "      <td>- Degree in environmentally related field, or ...</td>\n",
              "      <td>NaN</td>\n",
              "      <td>Please send resume or CV toursula.kazarian@......</td>\n",
              "      <td>NaN</td>\n",
              "      <td>20 January 2004\\r\\nSTART DATE:  February 2004</td>\n",
              "      <td>NaN</td>\n",
              "      <td>The Caucasus Environmental NGO Network is a\\r\\...</td>\n",
              "      <td>NaN</td>\n",
              "      <td>2004</td>\n",
              "      <td>1</td>\n",
              "      <td>False</td>\n",
              "    </tr>\n",
              "    <tr>\n",
              "      <th>3</th>\n",
              "      <td>Manoff Group\\r\\nJOB TITLE:  BCC Specialist\\r\\n...</td>\n",
              "      <td>Jan 7, 2004</td>\n",
              "      <td>BCC Specialist</td>\n",
              "      <td>Manoff Group</td>\n",
              "      <td>NaN</td>\n",
              "      <td>NaN</td>\n",
              "      <td>NaN</td>\n",
              "      <td>NaN</td>\n",
              "      <td>NaN</td>\n",
              "      <td>NaN</td>\n",
              "      <td>Manila, Philippines</td>\n",
              "      <td>The LEAD (Local Enhancement and Development fo...</td>\n",
              "      <td>- Identify gaps in knowledge and overseeing in...</td>\n",
              "      <td>- Advanced degree in public health, social sci...</td>\n",
              "      <td>NaN</td>\n",
              "      <td>Please send cover letter and resume to Amy\\r\\n...</td>\n",
              "      <td>NaN</td>\n",
              "      <td>23 January 2004\\r\\nSTART DATE:  Immediate</td>\n",
              "      <td>NaN</td>\n",
              "      <td>NaN</td>\n",
              "      <td>NaN</td>\n",
              "      <td>2004</td>\n",
              "      <td>1</td>\n",
              "      <td>False</td>\n",
              "    </tr>\n",
              "    <tr>\n",
              "      <th>4</th>\n",
              "      <td>Yerevan Brandy Company\\r\\nJOB TITLE:  Software...</td>\n",
              "      <td>Jan 10, 2004</td>\n",
              "      <td>Software Developer</td>\n",
              "      <td>Yerevan Brandy Company</td>\n",
              "      <td>NaN</td>\n",
              "      <td>NaN</td>\n",
              "      <td>NaN</td>\n",
              "      <td>NaN</td>\n",
              "      <td>NaN</td>\n",
              "      <td>NaN</td>\n",
              "      <td>Yerevan, Armenia</td>\n",
              "      <td>NaN</td>\n",
              "      <td>- Rendering technical assistance to Database M...</td>\n",
              "      <td>- University degree; economical background is ...</td>\n",
              "      <td>NaN</td>\n",
              "      <td>Successful candidates should submit\\r\\n- CV; \\...</td>\n",
              "      <td>NaN</td>\n",
              "      <td>20 January 2004, 18:00</td>\n",
              "      <td>NaN</td>\n",
              "      <td>NaN</td>\n",
              "      <td>NaN</td>\n",
              "      <td>2004</td>\n",
              "      <td>1</td>\n",
              "      <td>True</td>\n",
              "    </tr>\n",
              "  </tbody>\n",
              "</table>\n",
              "</div>"
            ],
            "text/plain": [
              "                                             jobpost  ...     IT\n",
              "0  AMERIA Investment Consulting Company\\r\\nJOB TI...  ...  False\n",
              "1  International Research & Exchanges Board (IREX...  ...  False\n",
              "2  Caucasus Environmental NGO Network (CENN)\\r\\nJ...  ...  False\n",
              "3  Manoff Group\\r\\nJOB TITLE:  BCC Specialist\\r\\n...  ...  False\n",
              "4  Yerevan Brandy Company\\r\\nJOB TITLE:  Software...  ...   True\n",
              "\n",
              "[5 rows x 24 columns]"
            ]
          },
          "metadata": {
            "tags": []
          },
          "execution_count": 12
        }
      ]
    },
    {
      "cell_type": "code",
      "metadata": {
        "id": "54kYnKdss4UF",
        "colab_type": "code",
        "colab": {
          "base_uri": "https://localhost:8080/",
          "height": 547
        },
        "outputId": "7278ff7d-ab67-4fa2-aee4-8f174eda13bb"
      },
      "source": [
        "df.tail()"
      ],
      "execution_count": 13,
      "outputs": [
        {
          "output_type": "execute_result",
          "data": {
            "text/html": [
              "<div>\n",
              "<style scoped>\n",
              "    .dataframe tbody tr th:only-of-type {\n",
              "        vertical-align: middle;\n",
              "    }\n",
              "\n",
              "    .dataframe tbody tr th {\n",
              "        vertical-align: top;\n",
              "    }\n",
              "\n",
              "    .dataframe thead th {\n",
              "        text-align: right;\n",
              "    }\n",
              "</style>\n",
              "<table border=\"1\" class=\"dataframe\">\n",
              "  <thead>\n",
              "    <tr style=\"text-align: right;\">\n",
              "      <th></th>\n",
              "      <th>jobpost</th>\n",
              "      <th>date</th>\n",
              "      <th>Title</th>\n",
              "      <th>Company</th>\n",
              "      <th>AnnouncementCode</th>\n",
              "      <th>Term</th>\n",
              "      <th>Eligibility</th>\n",
              "      <th>Audience</th>\n",
              "      <th>StartDate</th>\n",
              "      <th>Duration</th>\n",
              "      <th>Location</th>\n",
              "      <th>JobDescription</th>\n",
              "      <th>JobRequirment</th>\n",
              "      <th>RequiredQual</th>\n",
              "      <th>Salary</th>\n",
              "      <th>ApplicationP</th>\n",
              "      <th>OpeningDate</th>\n",
              "      <th>Deadline</th>\n",
              "      <th>Notes</th>\n",
              "      <th>AboutC</th>\n",
              "      <th>Attach</th>\n",
              "      <th>Year</th>\n",
              "      <th>Month</th>\n",
              "      <th>IT</th>\n",
              "    </tr>\n",
              "  </thead>\n",
              "  <tbody>\n",
              "    <tr>\n",
              "      <th>18996</th>\n",
              "      <td>Technolinguistics NGO\\r\\n\\r\\n\\r\\nTITLE:  Senio...</td>\n",
              "      <td>Dec 28, 2015</td>\n",
              "      <td>Senior Creative UX/ UI Designer</td>\n",
              "      <td>Technolinguistics NGO</td>\n",
              "      <td>NaN</td>\n",
              "      <td>Full-time</td>\n",
              "      <td>NaN</td>\n",
              "      <td>NaN</td>\n",
              "      <td>NaN</td>\n",
              "      <td>Long-term</td>\n",
              "      <td>Yerevan, Armenia</td>\n",
              "      <td>A tech startup of Technolinguistics based in N...</td>\n",
              "      <td>- Work closely with product and business teams...</td>\n",
              "      <td>- At least 5 years of experience in Interface/...</td>\n",
              "      <td>Competitive</td>\n",
              "      <td>To apply for this position, please send your\\r...</td>\n",
              "      <td>29 December 2015</td>\n",
              "      <td>28 January 2016</td>\n",
              "      <td>NaN</td>\n",
              "      <td>As a company Technolinguistics has a mandate t...</td>\n",
              "      <td>NaN</td>\n",
              "      <td>2015</td>\n",
              "      <td>12</td>\n",
              "      <td>False</td>\n",
              "    </tr>\n",
              "    <tr>\n",
              "      <th>18997</th>\n",
              "      <td>\"Coca-Cola Hellenic Bottling Company Armenia\" ...</td>\n",
              "      <td>Dec 30, 2015</td>\n",
              "      <td>Category Development Manager</td>\n",
              "      <td>\"Coca-Cola Hellenic Bottling Company Armenia\" ...</td>\n",
              "      <td>NaN</td>\n",
              "      <td>Full-time</td>\n",
              "      <td>All interested professionals.</td>\n",
              "      <td>NaN</td>\n",
              "      <td>ASAP</td>\n",
              "      <td>Long-term with a probation period of 3 months.</td>\n",
              "      <td>Yerevan, Armenia</td>\n",
              "      <td>NaN</td>\n",
              "      <td>- Establish and manage Category Management dev...</td>\n",
              "      <td>- University degree, ideally business related;...</td>\n",
              "      <td>NaN</td>\n",
              "      <td>All interested candidates are kindly requested...</td>\n",
              "      <td>30 December 2015</td>\n",
              "      <td>20 January 2016</td>\n",
              "      <td>NaN</td>\n",
              "      <td>NaN</td>\n",
              "      <td>NaN</td>\n",
              "      <td>2015</td>\n",
              "      <td>12</td>\n",
              "      <td>False</td>\n",
              "    </tr>\n",
              "    <tr>\n",
              "      <th>18998</th>\n",
              "      <td>\"Coca-Cola Hellenic Bottling Company Armenia\" ...</td>\n",
              "      <td>Dec 30, 2015</td>\n",
              "      <td>Operational Marketing Manager</td>\n",
              "      <td>\"Coca-Cola Hellenic Bottling Company Armenia\" ...</td>\n",
              "      <td>NaN</td>\n",
              "      <td>Full-time</td>\n",
              "      <td>All interested professionals.</td>\n",
              "      <td>NaN</td>\n",
              "      <td>ASAP</td>\n",
              "      <td>Long-term with a probation period of 3 months.</td>\n",
              "      <td>Yerevan, Armenia</td>\n",
              "      <td>NaN</td>\n",
              "      <td>- Develop, establish and maintain marketing st...</td>\n",
              "      <td>- Degree in Business, Marketing or a related f...</td>\n",
              "      <td>NaN</td>\n",
              "      <td>All interested candidates are kindly requested...</td>\n",
              "      <td>30 December 2015</td>\n",
              "      <td>20 January 2016</td>\n",
              "      <td>NaN</td>\n",
              "      <td>NaN</td>\n",
              "      <td>NaN</td>\n",
              "      <td>2015</td>\n",
              "      <td>12</td>\n",
              "      <td>False</td>\n",
              "    </tr>\n",
              "    <tr>\n",
              "      <th>18999</th>\n",
              "      <td>San Lazzaro   LLC\\r\\n\\r\\n\\r\\nTITLE:  Head of O...</td>\n",
              "      <td>Dec 30, 2015</td>\n",
              "      <td>Head of Online Sales Department</td>\n",
              "      <td>San Lazzaro   LLC</td>\n",
              "      <td>NaN</td>\n",
              "      <td>NaN</td>\n",
              "      <td>NaN</td>\n",
              "      <td>NaN</td>\n",
              "      <td>NaN</td>\n",
              "      <td>Long-term</td>\n",
              "      <td>Yerevan, Armenia</td>\n",
              "      <td>San Lazzaro LLC is looking for a well-experien...</td>\n",
              "      <td>- Handle the project activites of the online s...</td>\n",
              "      <td>- At least 1 year of experience in online sale...</td>\n",
              "      <td>Highly competitive</td>\n",
              "      <td>Interested candidates can send their CVs to:\\r...</td>\n",
              "      <td>30 December 2015</td>\n",
              "      <td>29 January 2016</td>\n",
              "      <td>NaN</td>\n",
              "      <td>San Lazzaro LLC works with several internation...</td>\n",
              "      <td>NaN</td>\n",
              "      <td>2015</td>\n",
              "      <td>12</td>\n",
              "      <td>False</td>\n",
              "    </tr>\n",
              "    <tr>\n",
              "      <th>19000</th>\n",
              "      <td>\"Kamurj\" UCO CJSC\\r\\n\\r\\n\\r\\nTITLE:  Lawyer in...</td>\n",
              "      <td>Dec 30, 2015</td>\n",
              "      <td>Lawyer in Legal Department</td>\n",
              "      <td>\"Kamurj\" UCO CJSC</td>\n",
              "      <td>NaN</td>\n",
              "      <td>Full-time</td>\n",
              "      <td>NaN</td>\n",
              "      <td>NaN</td>\n",
              "      <td>NaN</td>\n",
              "      <td>Indefinite</td>\n",
              "      <td>Yerevan, Armenia</td>\n",
              "      <td>\"Kamurj\" UCO CJSC is looking for a Lawyer in L...</td>\n",
              "      <td>- Properly provide internal legal services of ...</td>\n",
              "      <td>- Higher legal education; Master's degree is a...</td>\n",
              "      <td>NaN</td>\n",
              "      <td>All qualified applicants are encouraged to\\r\\n...</td>\n",
              "      <td>30 December 2015</td>\n",
              "      <td>20 January 2016</td>\n",
              "      <td>NaN</td>\n",
              "      <td>\"Kamurj\" UCO CJSC is providing micro and small...</td>\n",
              "      <td>NaN</td>\n",
              "      <td>2015</td>\n",
              "      <td>12</td>\n",
              "      <td>False</td>\n",
              "    </tr>\n",
              "  </tbody>\n",
              "</table>\n",
              "</div>"
            ],
            "text/plain": [
              "                                                 jobpost  ...     IT\n",
              "18996  Technolinguistics NGO\\r\\n\\r\\n\\r\\nTITLE:  Senio...  ...  False\n",
              "18997  \"Coca-Cola Hellenic Bottling Company Armenia\" ...  ...  False\n",
              "18998  \"Coca-Cola Hellenic Bottling Company Armenia\" ...  ...  False\n",
              "18999  San Lazzaro   LLC\\r\\n\\r\\n\\r\\nTITLE:  Head of O...  ...  False\n",
              "19000  \"Kamurj\" UCO CJSC\\r\\n\\r\\n\\r\\nTITLE:  Lawyer in...  ...  False\n",
              "\n",
              "[5 rows x 24 columns]"
            ]
          },
          "metadata": {
            "tags": []
          },
          "execution_count": 13
        }
      ]
    },
    {
      "cell_type": "code",
      "metadata": {
        "id": "lCWED-nps6Lh",
        "colab_type": "code",
        "colab": {
          "base_uri": "https://localhost:8080/",
          "height": 238
        },
        "outputId": "ea6f5d8b-f758-47d4-fbbf-1add935735e4"
      },
      "source": [
        "df['Year'].value_counts()"
      ],
      "execution_count": 19,
      "outputs": [
        {
          "output_type": "execute_result",
          "data": {
            "text/plain": [
              "2012    2149\n",
              "2015    2009\n",
              "2013    2009\n",
              "2014    1983\n",
              "2008    1785\n",
              "2011    1697\n",
              "2007    1538\n",
              "2010    1511\n",
              "2009    1191\n",
              "2005    1138\n",
              "2006    1116\n",
              "2004     875\n",
              "Name: Year, dtype: int64"
            ]
          },
          "metadata": {
            "tags": []
          },
          "execution_count": 19
        }
      ]
    },
    {
      "cell_type": "code",
      "metadata": {
        "id": "Z-vi1s99s-32",
        "colab_type": "code",
        "colab": {
          "base_uri": "https://localhost:8080/",
          "height": 119
        },
        "outputId": "c622af7e-ece3-4761-fd48-6381e3a5bf35"
      },
      "source": [
        "df.columns"
      ],
      "execution_count": 20,
      "outputs": [
        {
          "output_type": "execute_result",
          "data": {
            "text/plain": [
              "Index(['jobpost', 'date', 'Title', 'Company', 'AnnouncementCode', 'Term',\n",
              "       'Eligibility', 'Audience', 'StartDate', 'Duration', 'Location',\n",
              "       'JobDescription', 'JobRequirment', 'RequiredQual', 'Salary',\n",
              "       'ApplicationP', 'OpeningDate', 'Deadline', 'Notes', 'AboutC', 'Attach',\n",
              "       'Year', 'Month', 'IT'],\n",
              "      dtype='object')"
            ]
          },
          "metadata": {
            "tags": []
          },
          "execution_count": 20
        }
      ]
    },
    {
      "cell_type": "markdown",
      "metadata": {
        "id": "6gb1HjfJuHJv",
        "colab_type": "text"
      },
      "source": [
        "* **Is this dataset tidy?**\n",
        "\n",
        "The definition of a tidy dataset, according to Hadley Wickham's paper on the subject:\n",
        "\n",
        "* each variable is a column\n",
        "* each observation is a row\n",
        "* each type of observational unit is a table.\n",
        "\n",
        "**Answer**\n",
        "* Dataset is **Not** Tidy\n",
        "* Non-tidy data is ok for sometimes\n",
        "* Non-Tidy: Date Column is duplicated\n",
        "* Two Representation of date\n",
        "* Job posting data and company data\n",
        "\n"
      ]
    },
    {
      "cell_type": "markdown",
      "metadata": {
        "id": "sQFc2dWq8sCR",
        "colab_type": "text"
      },
      "source": [
        "# Clean\n",
        "* The programmatic data cleaning process:\n",
        "\n",
        "1. Define\n",
        "2. Code\n",
        "3. Test\n",
        "\n",
        "**Define:**\n",
        "* Select All records inthe StartDate column that have \"As Soon As Possible\",\"Immediately\" etc And Replace the text in those cells with \"ASAP\"\n",
        "\n"
      ]
    },
    {
      "cell_type": "code",
      "metadata": {
        "id": "EpjxRlfet30s",
        "colab_type": "code",
        "colab": {}
      },
      "source": [
        "df_clean=df.copy()"
      ],
      "execution_count": 24,
      "outputs": []
    },
    {
      "cell_type": "code",
      "metadata": {
        "id": "7yFgyLCI_FAS",
        "colab_type": "code",
        "colab": {}
      },
      "source": [
        "# Renaming Non Descriptive Column Names\n",
        "df_clean = df_clean.rename(columns={'JobRequirment':'JobRequirement',\n",
        "                                    'AboutC':'AboutCompany',\n",
        "                                    'RequiredQual':'RequiredQualifications',\n",
        "                                    'ApplicationP':'ApplicationProcedure',})"
      ],
      "execution_count": 25,
      "outputs": []
    },
    {
      "cell_type": "code",
      "metadata": {
        "id": "Pi74yfUFBbda",
        "colab_type": "code",
        "colab": {
          "base_uri": "https://localhost:8080/",
          "height": 119
        },
        "outputId": "9f5df0d9-802d-4cd8-dc62-3b8c2beb2147"
      },
      "source": [
        "df_clean.columns"
      ],
      "execution_count": 27,
      "outputs": [
        {
          "output_type": "execute_result",
          "data": {
            "text/plain": [
              "Index(['jobpost', 'date', 'Title', 'Company', 'AnnouncementCode', 'Term',\n",
              "       'Eligibility', 'Audience', 'StartDate', 'Duration', 'Location',\n",
              "       'JobDescription', 'JobRequirement', 'RequiredQualifications', 'Salary',\n",
              "       'ApplicationProcedure', 'OpeningDate', 'Deadline', 'Notes',\n",
              "       'AboutCompany', 'Attach', 'Year', 'Month', 'IT'],\n",
              "      dtype='object')"
            ]
          },
          "metadata": {
            "tags": []
          },
          "execution_count": 27
        }
      ]
    },
    {
      "cell_type": "code",
      "metadata": {
        "id": "HzGclWLRVjbD",
        "colab_type": "code",
        "colab": {
          "base_uri": "https://localhost:8080/",
          "height": 374
        },
        "outputId": "a00ba276-0133-4d19-a233-6e77441fa9fd"
      },
      "source": [
        "df_clean['StartDate'].value_counts()[310:330]"
      ],
      "execution_count": 64,
      "outputs": [
        {
          "output_type": "execute_result",
          "data": {
            "text/plain": [
              "15 September 2007    3\n",
              "15 September 2014    3\n",
              "01 November 2013     3\n",
              "15 December 2005     3\n",
              "15 March 2006        2\n",
              "01 February 2013     2\n",
              "08 December 2009     2\n",
              "August 2013          2\n",
              "20 June 2011         2\n",
              "20 August 2010       2\n",
              "Mid December         2\n",
              "09 February 2005     2\n",
              "01 January 2005      2\n",
              "22 February 2005     2\n",
              "15 October 2009      2\n",
              "01 December 2006     2\n",
              "06 September 2004    2\n",
              "25 February 2007     2\n",
              "10 March 2008        2\n",
              "19 September 2011    2\n",
              "Name: StartDate, dtype: int64"
            ]
          },
          "metadata": {
            "tags": []
          },
          "execution_count": 64
        }
      ]
    },
    {
      "cell_type": "code",
      "metadata": {
        "id": "EaAMqTqbbNMR",
        "colab_type": "code",
        "colab": {}
      },
      "source": [
        "asap_lst=['Immediately','As soon as possible','Immediate','Immediate employment',\n",
        "          'As soon as possible.','Immediate job opportunity','Immediate employment, after passing the interview.',\n",
        "          'ASAP preferred','Immidiately','Immediate employment opportunity',\n",
        "          'ASA','Asap','The position is open immediately but has a flexible\\r\\nstart date depending on the candidates earliest availability.'\n",
        "          'Immediately upon agreement','Immediatelly','immediately ']    \n"
      ],
      "execution_count": 65,
      "outputs": []
    },
    {
      "cell_type": "code",
      "metadata": {
        "id": "TQqNxF3bBeNV",
        "colab_type": "code",
        "colab": {}
      },
      "source": [
        "for phrase in asap_lst:\n",
        "    df_clean.replace(phrase,'ASAP',inplace=True)"
      ],
      "execution_count": 66,
      "outputs": []
    },
    {
      "cell_type": "code",
      "metadata": {
        "id": "EDW7My4PkZMU",
        "colab_type": "code",
        "colab": {
          "base_uri": "https://localhost:8080/",
          "height": 221
        },
        "outputId": "6de06bd6-0787-44b3-c5d3-6446b2f78ff2"
      },
      "source": [
        "df_clean['StartDate'].value_counts()"
      ],
      "execution_count": 68,
      "outputs": [
        {
          "output_type": "execute_result",
          "data": {
            "text/plain": [
              "ASAP                 6556\n",
              "Upon hiring           261\n",
              "01 September 2012      31\n",
              "March 2006             27\n",
              "November 2006          22\n",
              "                     ... \n",
              "01.02.2005              1\n",
              "06 August 2005          1\n",
              "05 June 2005            1\n",
              "03 March 2008           1\n",
              "24 August 2011          1\n",
              "Name: StartDate, Length: 1173, dtype: int64"
            ]
          },
          "metadata": {
            "tags": []
          },
          "execution_count": 68
        }
      ]
    },
    {
      "cell_type": "code",
      "metadata": {
        "id": "TtQ4z0FKkeLL",
        "colab_type": "code",
        "colab": {}
      },
      "source": [
        "# if \n",
        "for phrase in asap_lst:\n",
        "    assert phrase not in df_clean['StartDate'].values"
      ],
      "execution_count": 73,
      "outputs": []
    },
    {
      "cell_type": "code",
      "metadata": {
        "id": "ijGgi0epmzD7",
        "colab_type": "code",
        "colab": {}
      },
      "source": [
        "asap_cnt=df_clean['StartDate'].value_counts()['ASAP']\n",
        "non_empty_cnt=df_clean['StartDate'].count()"
      ],
      "execution_count": 74,
      "outputs": []
    },
    {
      "cell_type": "code",
      "metadata": {
        "id": "o1DUiBanuPIU",
        "colab_type": "code",
        "colab": {
          "base_uri": "https://localhost:8080/",
          "height": 34
        },
        "outputId": "8c3f79be-1259-4277-a24a-0693f31f3dcb"
      },
      "source": [
        "asap_cnt/non_empty_cnt"
      ],
      "execution_count": 75,
      "outputs": [
        {
          "output_type": "execute_result",
          "data": {
            "text/plain": [
              "0.6776227390180879"
            ]
          },
          "metadata": {
            "tags": []
          },
          "execution_count": 75
        }
      ]
    },
    {
      "cell_type": "code",
      "metadata": {
        "id": "ysqwlW9PuT2_",
        "colab_type": "code",
        "colab": {
          "base_uri": "https://localhost:8080/",
          "height": 265
        },
        "outputId": "c5903f31-f162-4442-88a1-578d2dd75dc6"
      },
      "source": [
        "import numpy as np\n",
        "%matplotlib inline\n",
        "# numpy.full(shape, fill_value, dtype=None, order='C')[source]\n",
        "# Return a new array of given shape and type, filled with fill_value\n",
        "labels=np.full(len(df_clean['StartDate'].value_counts()),'',dtype=object)\n",
        "labels[0]='ASAP'\n",
        "df_clean['StartDate'].value_counts().plot(kind='pie',labels=labels)"
      ],
      "execution_count": 78,
      "outputs": [
        {
          "output_type": "execute_result",
          "data": {
            "text/plain": [
              "<matplotlib.axes._subplots.AxesSubplot at 0x7f181b32cb38>"
            ]
          },
          "metadata": {
            "tags": []
          },
          "execution_count": 78
        },
        {
          "output_type": "display_data",
          "data": {
            "image/png": "[encoded data removed]",
            "text/plain": [
              "<Figure size 432x288 with 1 Axes>"
            ]
          },
          "metadata": {
            "tags": []
          }
        }
      ]
    },
    {
      "cell_type": "markdown",
      "metadata": {
        "id": "tAL0G2G6v13F",
        "colab_type": "text"
      },
      "source": [
        "Difference From Original and Cleaned"
      ]
    },
    {
      "cell_type": "code",
      "metadata": {
        "id": "k99I9E1CvJnp",
        "colab_type": "code",
        "colab": {
          "base_uri": "https://localhost:8080/",
          "height": 34
        },
        "outputId": "96beb67e-f2e9-4329-dd08-04eb08adcc9a"
      },
      "source": [
        "asap_cnt=df['StartDate'].value_counts()['ASAP']\n",
        "non_empty_cnt=df['StartDate'].count()\n",
        "asap_cnt/non_empty_cnt"
      ],
      "execution_count": 79,
      "outputs": [
        {
          "output_type": "execute_result",
          "data": {
            "text/plain": [
              "0.4913695090439276"
            ]
          },
          "metadata": {
            "tags": []
          },
          "execution_count": 79
        }
      ]
    },
    {
      "cell_type": "code",
      "metadata": {
        "id": "uyCNHfo7v_-b",
        "colab_type": "code",
        "colab": {
          "base_uri": "https://localhost:8080/",
          "height": 265
        },
        "outputId": "3b1fbf47-5bcf-488c-9064-57f77f4b0f46"
      },
      "source": [
        "import numpy as np\n",
        "%matplotlib inline\n",
        "# numpy.full(shape, fill_value, dtype=None, order='C')[source]\n",
        "# Return a new array of given shape and type, filled with fill_value\n",
        "labels=np.full(len(df['StartDate'].value_counts()),'',dtype=object)\n",
        "labels[0]='ASAP'\n",
        "df['StartDate'].value_counts().plot(kind='pie',labels=labels)"
      ],
      "execution_count": 80,
      "outputs": [
        {
          "output_type": "execute_result",
          "data": {
            "text/plain": [
              "<matplotlib.axes._subplots.AxesSubplot at 0x7f1819d28048>"
            ]
          },
          "metadata": {
            "tags": []
          },
          "execution_count": 80
        },
        {
          "output_type": "display_data",
          "data": {
            "image/png": "[encoded data removed]",
            "text/plain": [
              "<Figure size 432x288 with 1 Axes>"
            ]
          },
          "metadata": {
            "tags": []
          }
        }
      ]
    },
    {
      "cell_type": "markdown",
      "metadata": {
        "id": "vEf8nmUAwMdB",
        "colab_type": "text"
      },
      "source": [
        "# **Here Is The Power Of Data Wrangling 18% Increase in ASAP After Data Wrangling**"
      ]
    },
    {
      "cell_type": "markdown",
      "metadata": {
        "id": "pQ8kTrJza50o",
        "colab_type": "text"
      },
      "source": [
        "# Gathering Data\n",
        "\n",
        "* Data wrangling process:\n",
        "\n",
        "    * Gather (this lesson)\n",
        "    * Assess\n",
        "    * Clean\n",
        "* Gathering data is the first step in data wrangling. Before gathering, we have no data, and after it, we do.\n",
        "\n",
        "## Finding The BestMovies\n"
      ]
    },
    {
      "cell_type": "code",
      "metadata": {
        "id": "D7E4HbO4wJVs",
        "colab_type": "code",
        "colab": {}
      },
      "source": [
        "# Rotten Tomatoes\n",
        "import pandas as pd\n",
        "df_critic=pd.read_csv('/content/bestofrt.tsv',sep='\\t')\n"
      ],
      "execution_count": 3,
      "outputs": []
    },
    {
      "cell_type": "code",
      "metadata": {
        "id": "Sgnq7GhW_iYr",
        "colab_type": "code",
        "colab": {
          "base_uri": "https://localhost:8080/",
          "height": 419
        },
        "outputId": "c0d1a559-4c3f-4d4a-9bcd-4957d442d504"
      },
      "source": [
        "df"
      ],
      "execution_count": 4,
      "outputs": [
        {
          "output_type": "execute_result",
          "data": {
            "text/html": [
              "<div>\n",
              "<style scoped>\n",
              "    .dataframe tbody tr th:only-of-type {\n",
              "        vertical-align: middle;\n",
              "    }\n",
              "\n",
              "    .dataframe tbody tr th {\n",
              "        vertical-align: top;\n",
              "    }\n",
              "\n",
              "    .dataframe thead th {\n",
              "        text-align: right;\n",
              "    }\n",
              "</style>\n",
              "<table border=\"1\" class=\"dataframe\">\n",
              "  <thead>\n",
              "    <tr style=\"text-align: right;\">\n",
              "      <th></th>\n",
              "      <th>ranking</th>\n",
              "      <th>critic_score</th>\n",
              "      <th>title</th>\n",
              "      <th>number_of_critic_ratings</th>\n",
              "    </tr>\n",
              "  </thead>\n",
              "  <tbody>\n",
              "    <tr>\n",
              "      <th>0</th>\n",
              "      <td>1</td>\n",
              "      <td>99</td>\n",
              "      <td>The Wizard of Oz (1939)</td>\n",
              "      <td>110</td>\n",
              "    </tr>\n",
              "    <tr>\n",
              "      <th>1</th>\n",
              "      <td>2</td>\n",
              "      <td>100</td>\n",
              "      <td>Citizen Kane (1941)</td>\n",
              "      <td>75</td>\n",
              "    </tr>\n",
              "    <tr>\n",
              "      <th>2</th>\n",
              "      <td>3</td>\n",
              "      <td>100</td>\n",
              "      <td>The Third Man (1949)</td>\n",
              "      <td>77</td>\n",
              "    </tr>\n",
              "    <tr>\n",
              "      <th>3</th>\n",
              "      <td>4</td>\n",
              "      <td>99</td>\n",
              "      <td>Get Out (2017)</td>\n",
              "      <td>282</td>\n",
              "    </tr>\n",
              "    <tr>\n",
              "      <th>4</th>\n",
              "      <td>5</td>\n",
              "      <td>97</td>\n",
              "      <td>Mad Max: Fury Road (2015)</td>\n",
              "      <td>370</td>\n",
              "    </tr>\n",
              "    <tr>\n",
              "      <th>...</th>\n",
              "      <td>...</td>\n",
              "      <td>...</td>\n",
              "      <td>...</td>\n",
              "      <td>...</td>\n",
              "    </tr>\n",
              "    <tr>\n",
              "      <th>95</th>\n",
              "      <td>96</td>\n",
              "      <td>100</td>\n",
              "      <td>Man on Wire (2008)</td>\n",
              "      <td>156</td>\n",
              "    </tr>\n",
              "    <tr>\n",
              "      <th>96</th>\n",
              "      <td>97</td>\n",
              "      <td>97</td>\n",
              "      <td>Jaws (1975)</td>\n",
              "      <td>74</td>\n",
              "    </tr>\n",
              "    <tr>\n",
              "      <th>97</th>\n",
              "      <td>98</td>\n",
              "      <td>100</td>\n",
              "      <td>Toy Story (1995)</td>\n",
              "      <td>78</td>\n",
              "    </tr>\n",
              "    <tr>\n",
              "      <th>98</th>\n",
              "      <td>99</td>\n",
              "      <td>97</td>\n",
              "      <td>The Godfather, Part II (1974)</td>\n",
              "      <td>72</td>\n",
              "    </tr>\n",
              "    <tr>\n",
              "      <th>99</th>\n",
              "      <td>100</td>\n",
              "      <td>100</td>\n",
              "      <td>Battleship Potemkin (1925)</td>\n",
              "      <td>45</td>\n",
              "    </tr>\n",
              "  </tbody>\n",
              "</table>\n",
              "<p>100 rows × 4 columns</p>\n",
              "</div>"
            ],
            "text/plain": [
              "    ranking  ...  number_of_critic_ratings\n",
              "0         1  ...                       110\n",
              "1         2  ...                        75\n",
              "2         3  ...                        77\n",
              "3         4  ...                       282\n",
              "4         5  ...                       370\n",
              "..      ...  ...                       ...\n",
              "95       96  ...                       156\n",
              "96       97  ...                        74\n",
              "97       98  ...                        78\n",
              "98       99  ...                        72\n",
              "99      100  ...                        45\n",
              "\n",
              "[100 rows x 4 columns]"
            ]
          },
          "metadata": {
            "tags": []
          },
          "execution_count": 4
        }
      ]
    },
    {
      "cell_type": "markdown",
      "metadata": {
        "id": "Oxj_VOK0AVha",
        "colab_type": "text"
      },
      "source": [
        "# Web Scraping\n",
        "\n",
        "* Extract data from website using programming"
      ]
    },
    {
      "cell_type": "code",
      "metadata": {
        "id": "u86xPMdzqCYt",
        "colab_type": "code",
        "colab": {}
      },
      "source": [
        "import zipfile\n",
        "from bs4 import BeautifulSoup\n",
        "import pandas as pd"
      ],
      "execution_count": 15,
      "outputs": []
    },
    {
      "cell_type": "code",
      "metadata": {
        "id": "-ox5YfLwrArD",
        "colab_type": "code",
        "colab": {}
      },
      "source": [
        "with zipfile.ZipFile('/content/rt-html.zip','r') as zf:\n",
        "    zf.extractall('/content/')"
      ],
      "execution_count": null,
      "outputs": []
    },
    {
      "cell_type": "code",
      "metadata": {
        "id": "1s_clbENMF9t",
        "colab_type": "code",
        "colab": {}
      },
      "source": [
        "import os\n",
        "df_list=[]\n",
        "folder='/content/rt_html'\n",
        "for movie in os.listdir(folder):\n",
        "    with open(os.path.join(folder,movie)) as file:\n",
        "        soup=BeautifulSoup(file,'lxml')\n",
        "        title=soup.find('title').contents[0][:-len('-Rotten Tomatoes')]\n",
        "        audience_score=soup.find('div',class_='audience-score').find('span').contents[0][:-1]\n",
        "        num_audience_ratings = soup.find('div',class_='audience-info hidden-xs superPageFontColor')\n",
        "        num_audience_ratings=num_audience_ratings.find_all('div')[1].contents[2].strip().replace(',','')\n",
        "        df_list.append({'title':title,\n",
        "                        'audience_score':int(audience_score),\n",
        "                        'num_audience_ratings':int(num_audience_ratings)})\n",
        "df = pd.DataFrame(df_list,columns = ['title','audience_score','num_audience_ratings'])"
      ],
      "execution_count": 19,
      "outputs": []
    },
    {
      "cell_type": "code",
      "metadata": {
        "id": "qWryIbfuMIVz",
        "colab_type": "code",
        "colab": {
          "base_uri": "https://localhost:8080/",
          "height": 204
        },
        "outputId": "ff0858dc-4c75-45a2-ee63-2fa3436d22d1"
      },
      "source": [
        "df.head()"
      ],
      "execution_count": 20,
      "outputs": [
        {
          "output_type": "execute_result",
          "data": {
            "text/html": [
              "<div>\n",
              "<style scoped>\n",
              "    .dataframe tbody tr th:only-of-type {\n",
              "        vertical-align: middle;\n",
              "    }\n",
              "\n",
              "    .dataframe tbody tr th {\n",
              "        vertical-align: top;\n",
              "    }\n",
              "\n",
              "    .dataframe thead th {\n",
              "        text-align: right;\n",
              "    }\n",
              "</style>\n",
              "<table border=\"1\" class=\"dataframe\">\n",
              "  <thead>\n",
              "    <tr style=\"text-align: right;\">\n",
              "      <th></th>\n",
              "      <th>title</th>\n",
              "      <th>audience_score</th>\n",
              "      <th>num_audience_ratings</th>\n",
              "    </tr>\n",
              "  </thead>\n",
              "  <tbody>\n",
              "    <tr>\n",
              "      <th>0</th>\n",
              "      <td>On the Waterfront (1954) -</td>\n",
              "      <td>95</td>\n",
              "      <td>51664</td>\n",
              "    </tr>\n",
              "    <tr>\n",
              "      <th>1</th>\n",
              "      <td>Baby Driver (2017) -</td>\n",
              "      <td>89</td>\n",
              "      <td>48114</td>\n",
              "    </tr>\n",
              "    <tr>\n",
              "      <th>2</th>\n",
              "      <td>The Babadook (2014) -</td>\n",
              "      <td>72</td>\n",
              "      <td>37024</td>\n",
              "    </tr>\n",
              "    <tr>\n",
              "      <th>3</th>\n",
              "      <td>The 39 Steps (1935) -</td>\n",
              "      <td>86</td>\n",
              "      <td>23647</td>\n",
              "    </tr>\n",
              "    <tr>\n",
              "      <th>4</th>\n",
              "      <td>Spotlight (2015) -</td>\n",
              "      <td>93</td>\n",
              "      <td>68142</td>\n",
              "    </tr>\n",
              "  </tbody>\n",
              "</table>\n",
              "</div>"
            ],
            "text/plain": [
              "                        title  audience_score  num_audience_ratings\n",
              "0  On the Waterfront (1954) -              95                 51664\n",
              "1        Baby Driver (2017) -              89                 48114\n",
              "2       The Babadook (2014) -              72                 37024\n",
              "3       The 39 Steps (1935) -              86                 23647\n",
              "4          Spotlight (2015) -              93                 68142"
            ]
          },
          "metadata": {
            "tags": []
          },
          "execution_count": 20
        }
      ]
    },
    {
      "cell_type": "code",
      "metadata": {
        "id": "7Ve-n3TQ4_AE",
        "colab_type": "code",
        "colab": {}
      },
      "source": [
        "df.to_csv('/content/bestovr.csv',sep=',')"
      ],
      "execution_count": 22,
      "outputs": []
    }
  ]
}